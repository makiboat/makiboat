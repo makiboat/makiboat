{
 "cells": [
  {
   "cell_type": "code",
   "execution_count": 2,
   "id": "699b6f88",
   "metadata": {},
   "outputs": [],
   "source": [
    "import pandas as pd"
   ]
  },
  {
   "cell_type": "code",
   "execution_count": 11,
   "id": "3d3f249a",
   "metadata": {},
   "outputs": [],
   "source": [
    "citibike01=pd.read_csv(\"202001-citibike-tripdata.csv\")\n",
    "citibike02=pd.read_csv(\"202002-citibike-tripdata.csv\")\n",
    "citibike03=pd.read_csv(\"202003-citibike-tripdata.csv\")\n",
    "citibike04=pd.read_csv(\"202004-citibike-tripdata.csv\")\n",
    "citibike05=pd.read_csv(\"202005-citibike-tripdata.csv\")\n",
    "citibike06=pd.read_csv(\"202006-citibike-tripdata.csv\")\n",
    "citibike07=pd.read_csv(\"202007-citibike-tripdata.csv\")\n",
    "citibike08=pd.read_csv(\"202008-citibike-tripdata.csv\")\n",
    "citibike09=pd.read_csv(\"202009-citibike-tripdata.csv\")\n",
    "citibike10=pd.read_csv(\"202010-citibike-tripdata.csv\")\n",
    "citibike11=pd.read_csv(\"202011-citibike-tripdata.csv\")\n",
    "citibike12=pd.read_csv(\"202012-citibike-tripdata.csv\")"
   ]
  },
  {
   "cell_type": "code",
   "execution_count": 12,
   "id": "62927cde",
   "metadata": {},
   "outputs": [],
   "source": [
    "citibike2020whole= pd.concat([citibike01, citibike02,citibike03,citibike04,citibike05,citibike06,citibike07,citibike08,citibike09,citibike10,citibike11,citibike12], ignore_index=True, sort=False)"
   ]
  },
  {
   "cell_type": "code",
   "execution_count": 13,
   "id": "c102f2e5",
   "metadata": {},
   "outputs": [
    {
     "data": {
      "text/plain": [
       "(19506857, 15)"
      ]
     },
     "execution_count": 13,
     "metadata": {},
     "output_type": "execute_result"
    }
   ],
   "source": [
    "citibike2020whole.shape"
   ]
  },
  {
   "cell_type": "code",
   "execution_count": 14,
   "id": "035a84e8",
   "metadata": {},
   "outputs": [
    {
     "data": {
      "text/plain": [
       "(17350280, 15)"
      ]
     },
     "execution_count": 14,
     "metadata": {},
     "output_type": "execute_result"
    }
   ],
   "source": [
    "#remove 0 gender\n",
    "filter1= (citibike2020whole.gender !=0)\n",
    "citibike2020whole_no0 = citibike2020whole[filter1]\n",
    "citibike2020whole_no0.shape"
   ]
  },
  {
   "cell_type": "code",
   "execution_count": 15,
   "id": "ac172add",
   "metadata": {},
   "outputs": [
    {
     "data": {
      "text/plain": [
       "(14675129, 15)"
      ]
     },
     "execution_count": 15,
     "metadata": {},
     "output_type": "execute_result"
    }
   ],
   "source": [
    "#remove duration less than 5 min and more than 5 hrs\n",
    "filter2=(citibike2020whole_no0.tripduration>300)&(citibike2020whole_no0.tripduration<18000)\n",
    "citibike_cleaned = citibike2020whole_no0[filter2]\n",
    "citibike_cleaned.shape"
   ]
  },
  {
   "cell_type": "code",
   "execution_count": 16,
   "id": "9ee95635",
   "metadata": {},
   "outputs": [
    {
     "data": {
      "text/html": [
       "<div>\n",
       "<style scoped>\n",
       "    .dataframe tbody tr th:only-of-type {\n",
       "        vertical-align: middle;\n",
       "    }\n",
       "\n",
       "    .dataframe tbody tr th {\n",
       "        vertical-align: top;\n",
       "    }\n",
       "\n",
       "    .dataframe thead th {\n",
       "        text-align: right;\n",
       "    }\n",
       "</style>\n",
       "<table border=\"1\" class=\"dataframe\">\n",
       "  <thead>\n",
       "    <tr style=\"text-align: right;\">\n",
       "      <th></th>\n",
       "      <th>tripduration</th>\n",
       "      <th>starttime</th>\n",
       "      <th>stoptime</th>\n",
       "      <th>start station id</th>\n",
       "      <th>start station name</th>\n",
       "      <th>start station latitude</th>\n",
       "      <th>start station longitude</th>\n",
       "      <th>end station id</th>\n",
       "      <th>end station name</th>\n",
       "      <th>end station latitude</th>\n",
       "      <th>end station longitude</th>\n",
       "      <th>bikeid</th>\n",
       "      <th>usertype</th>\n",
       "      <th>birth year</th>\n",
       "      <th>gender</th>\n",
       "    </tr>\n",
       "  </thead>\n",
       "  <tbody>\n",
       "    <tr>\n",
       "      <th>19506849</th>\n",
       "      <td>1178</td>\n",
       "      <td>2020-12-31 23:58:14.1000</td>\n",
       "      <td>2021-01-01 00:17:52.3380</td>\n",
       "      <td>3335</td>\n",
       "      <td>Union St &amp; 4 Ave</td>\n",
       "      <td>40.677274</td>\n",
       "      <td>-73.982820</td>\n",
       "      <td>3860</td>\n",
       "      <td>Wilson Ave &amp; Troutman St</td>\n",
       "      <td>40.701660</td>\n",
       "      <td>-73.927540</td>\n",
       "      <td>47991</td>\n",
       "      <td>Customer</td>\n",
       "      <td>1988</td>\n",
       "      <td>1</td>\n",
       "    </tr>\n",
       "    <tr>\n",
       "      <th>19506850</th>\n",
       "      <td>1344</td>\n",
       "      <td>2020-12-31 23:58:17.4800</td>\n",
       "      <td>2021-01-01 00:20:41.6070</td>\n",
       "      <td>456</td>\n",
       "      <td>E 53 St &amp; Madison Ave</td>\n",
       "      <td>40.759711</td>\n",
       "      <td>-73.974023</td>\n",
       "      <td>468</td>\n",
       "      <td>Broadway &amp; W 56 St</td>\n",
       "      <td>40.765265</td>\n",
       "      <td>-73.981923</td>\n",
       "      <td>36946</td>\n",
       "      <td>Subscriber</td>\n",
       "      <td>1994</td>\n",
       "      <td>1</td>\n",
       "    </tr>\n",
       "    <tr>\n",
       "      <th>19506851</th>\n",
       "      <td>589</td>\n",
       "      <td>2020-12-31 23:58:21.2620</td>\n",
       "      <td>2021-01-01 00:08:10.9220</td>\n",
       "      <td>3999</td>\n",
       "      <td>Adam Clayton Powell Blvd &amp; W 138 St</td>\n",
       "      <td>40.816960</td>\n",
       "      <td>-73.942296</td>\n",
       "      <td>3518</td>\n",
       "      <td>Lenox Ave &amp; W 126 St</td>\n",
       "      <td>40.808442</td>\n",
       "      <td>-73.945209</td>\n",
       "      <td>48973</td>\n",
       "      <td>Subscriber</td>\n",
       "      <td>1997</td>\n",
       "      <td>1</td>\n",
       "    </tr>\n",
       "    <tr>\n",
       "      <th>19506852</th>\n",
       "      <td>2045</td>\n",
       "      <td>2020-12-31 23:58:21.7040</td>\n",
       "      <td>2021-01-01 00:32:27.1570</td>\n",
       "      <td>526</td>\n",
       "      <td>E 33 St &amp; 5 Ave</td>\n",
       "      <td>40.747659</td>\n",
       "      <td>-73.984907</td>\n",
       "      <td>3614</td>\n",
       "      <td>Crescent St &amp; 30 Ave</td>\n",
       "      <td>40.768692</td>\n",
       "      <td>-73.924957</td>\n",
       "      <td>36467</td>\n",
       "      <td>Subscriber</td>\n",
       "      <td>1994</td>\n",
       "      <td>1</td>\n",
       "    </tr>\n",
       "    <tr>\n",
       "      <th>19506855</th>\n",
       "      <td>654</td>\n",
       "      <td>2020-12-31 23:59:55.9550</td>\n",
       "      <td>2021-01-01 00:10:50.6050</td>\n",
       "      <td>4073</td>\n",
       "      <td>W 51 St &amp; Rockefeller Plaza</td>\n",
       "      <td>40.759700</td>\n",
       "      <td>-73.978082</td>\n",
       "      <td>500</td>\n",
       "      <td>Broadway &amp; W 51 St</td>\n",
       "      <td>40.762288</td>\n",
       "      <td>-73.983362</td>\n",
       "      <td>49564</td>\n",
       "      <td>Subscriber</td>\n",
       "      <td>1994</td>\n",
       "      <td>1</td>\n",
       "    </tr>\n",
       "  </tbody>\n",
       "</table>\n",
       "</div>"
      ],
      "text/plain": [
       "          tripduration                 starttime                  stoptime  \\\n",
       "19506849          1178  2020-12-31 23:58:14.1000  2021-01-01 00:17:52.3380   \n",
       "19506850          1344  2020-12-31 23:58:17.4800  2021-01-01 00:20:41.6070   \n",
       "19506851           589  2020-12-31 23:58:21.2620  2021-01-01 00:08:10.9220   \n",
       "19506852          2045  2020-12-31 23:58:21.7040  2021-01-01 00:32:27.1570   \n",
       "19506855           654  2020-12-31 23:59:55.9550  2021-01-01 00:10:50.6050   \n",
       "\n",
       "          start station id                   start station name  \\\n",
       "19506849              3335                     Union St & 4 Ave   \n",
       "19506850               456                E 53 St & Madison Ave   \n",
       "19506851              3999  Adam Clayton Powell Blvd & W 138 St   \n",
       "19506852               526                      E 33 St & 5 Ave   \n",
       "19506855              4073          W 51 St & Rockefeller Plaza   \n",
       "\n",
       "          start station latitude  start station longitude  end station id  \\\n",
       "19506849               40.677274               -73.982820            3860   \n",
       "19506850               40.759711               -73.974023             468   \n",
       "19506851               40.816960               -73.942296            3518   \n",
       "19506852               40.747659               -73.984907            3614   \n",
       "19506855               40.759700               -73.978082             500   \n",
       "\n",
       "                  end station name  end station latitude  \\\n",
       "19506849  Wilson Ave & Troutman St             40.701660   \n",
       "19506850        Broadway & W 56 St             40.765265   \n",
       "19506851      Lenox Ave & W 126 St             40.808442   \n",
       "19506852      Crescent St & 30 Ave             40.768692   \n",
       "19506855        Broadway & W 51 St             40.762288   \n",
       "\n",
       "          end station longitude  bikeid    usertype  birth year  gender  \n",
       "19506849             -73.927540   47991    Customer        1988       1  \n",
       "19506850             -73.981923   36946  Subscriber        1994       1  \n",
       "19506851             -73.945209   48973  Subscriber        1997       1  \n",
       "19506852             -73.924957   36467  Subscriber        1994       1  \n",
       "19506855             -73.983362   49564  Subscriber        1994       1  "
      ]
     },
     "execution_count": 16,
     "metadata": {},
     "output_type": "execute_result"
    }
   ],
   "source": [
    "citibike_cleaned.tail()"
   ]
  },
  {
   "cell_type": "code",
   "execution_count": 17,
   "id": "ce7ad843",
   "metadata": {},
   "outputs": [],
   "source": [
    "citibike_cleaned.to_csv(\"citibike2020whole.csv\", index=False)"
   ]
  },
  {
   "cell_type": "code",
   "execution_count": null,
   "id": "835f501f",
   "metadata": {},
   "outputs": [],
   "source": []
  },
  {
   "cell_type": "code",
   "execution_count": 21,
   "id": "f44ccb53",
   "metadata": {},
   "outputs": [],
   "source": [
    "sample_size = 1000\n",
    "sampleDf = citibike_cleaned.sample(n = sample_size)"
   ]
  },
  {
   "cell_type": "code",
   "execution_count": 25,
   "id": "d4b1b135",
   "metadata": {},
   "outputs": [],
   "source": [
    "sampleDf.to_csv(\"citibike202001_1000.csv\", header = True)"
   ]
  },
  {
   "cell_type": "code",
   "execution_count": null,
   "id": "6b3a4e5b",
   "metadata": {},
   "outputs": [],
   "source": []
  }
 ],
 "metadata": {
  "kernelspec": {
   "display_name": "Python 3",
   "language": "python",
   "name": "python3"
  },
  "language_info": {
   "codemirror_mode": {
    "name": "ipython",
    "version": 3
   },
   "file_extension": ".py",
   "mimetype": "text/x-python",
   "name": "python",
   "nbconvert_exporter": "python",
   "pygments_lexer": "ipython3",
   "version": "3.8.8"
  }
 },
 "nbformat": 4,
 "nbformat_minor": 5
}
